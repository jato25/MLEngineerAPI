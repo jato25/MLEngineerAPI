{
 "cells": [
  {
   "cell_type": "code",
   "execution_count": 17,
   "id": "cfe81b94",
   "metadata": {},
   "outputs": [],
   "source": [
    "import pandas as pd, sklearn as sk, tensorflow as tf\n",
    "from sklearn.linear_model import LogisticRegression\n",
    "from sklearn.preprocessing import StandardScaler\n",
    "from sklearn.model_selection import train_test_split\n",
    "from sklearn.pipeline import Pipeline\n",
    "from sklearn.neural_network import MLPClassifier\n",
    "from pickle import dump, load"
   ]
  },
  {
   "cell_type": "code",
   "execution_count": 2,
   "id": "19da5413",
   "metadata": {},
   "outputs": [],
   "source": [
    "dataFrame = pd.read_csv('C:\\\\Users\\\\jtellez\\\\Downloads\\\\ML Test\\\\orders.csv')\n",
    "trainingData = dataFrame.drop(['order_id', 'store_id','created_at', 'to_user_elevation'], axis=1)\n",
    "\n",
    "date = dataFrame.created_at.astype('datetime64[ns]')\n",
    "#trainingData['dayMonth'] = date.dt.day\n",
    "#trainingData['month'] = date.dt.month\n",
    "#trainingData['hour'] = date.dt.hour\n",
    "#trainingData['minute'] = date.dt.minute\n",
    "#trainingData['weekday'] = date.dt.weekday"
   ]
  },
  {
   "cell_type": "code",
   "execution_count": 3,
   "id": "dfd2bebe",
   "metadata": {},
   "outputs": [],
   "source": [
    "features = list(trainingData.columns)\n",
    "features.remove('taken')\n",
    "X_data = trainingData[features]\n",
    "y_data = trainingData['taken']\n",
    "\n",
    "X_train, X_test, y_train, y_test = train_test_split(X_data, y_data, test_size=0.2, random_state=5)"
   ]
  },
  {
   "cell_type": "code",
   "execution_count": 4,
   "id": "d8664b3b",
   "metadata": {},
   "outputs": [
    {
     "data": {
      "text/plain": [
       "0.9202326688890401"
      ]
     },
     "execution_count": 4,
     "metadata": {},
     "output_type": "execute_result"
    }
   ],
   "source": [
    "pipeLogistic = Pipeline([('scaler', StandardScaler()), ('regression', LogisticRegression())])\n",
    "pipeLogistic.fit(X_train, y_train)\n",
    "pipeLogistic.score(X_test, y_test)"
   ]
  },
  {
   "cell_type": "code",
   "execution_count": 5,
   "id": "2eea322a",
   "metadata": {},
   "outputs": [
    {
     "data": {
      "text/plain": [
       "0.9201986529695898"
      ]
     },
     "execution_count": 5,
     "metadata": {},
     "output_type": "execute_result"
    }
   ],
   "source": [
    "pipeNN = Pipeline([('scaler', StandardScaler()), ('regression', MLPClassifier((5,3)))])\n",
    "pipeNN.fit(X_train, y_train)\n",
    "pipeNN.score(X_test, y_test)"
   ]
  },
  {
   "cell_type": "code",
   "execution_count": 6,
   "id": "aef34985",
   "metadata": {},
   "outputs": [
    {
     "data": {
      "text/plain": [
       "array([[0.06636523, 0.93363477],\n",
       "       [0.01968413, 0.98031587],\n",
       "       [0.10224007, 0.89775993]])"
      ]
     },
     "execution_count": 6,
     "metadata": {},
     "output_type": "execute_result"
    }
   ],
   "source": [
    "pipeLogistic.predict_proba(X_test.values[2:5])"
   ]
  },
  {
   "cell_type": "code",
   "execution_count": 7,
   "id": "d2aea98d",
   "metadata": {},
   "outputs": [
    {
     "data": {
      "text/plain": [
       "array([1, 1, 1], dtype=int64)"
      ]
     },
     "execution_count": 7,
     "metadata": {},
     "output_type": "execute_result"
    }
   ],
   "source": [
    "pipeLogistic.predict(X_test.values[2:5])"
   ]
  },
  {
   "cell_type": "code",
   "execution_count": 8,
   "id": "adc88b9b",
   "metadata": {},
   "outputs": [
    {
     "data": {
      "text/plain": [
       "array([[1.20219219e+00, 5.20000000e+03],\n",
       "       [1.43970147e-01, 1.00000000e+04],\n",
       "       [2.49860029e+00, 5.90000000e+03]])"
      ]
     },
     "execution_count": 8,
     "metadata": {},
     "output_type": "execute_result"
    }
   ],
   "source": [
    "X_test.values[2:5]"
   ]
  },
  {
   "cell_type": "code",
   "execution_count": 9,
   "id": "4c5d79d4",
   "metadata": {},
   "outputs": [
    {
     "data": {
      "text/plain": [
       "array([1, 1, 1], dtype=int64)"
      ]
     },
     "execution_count": 9,
     "metadata": {},
     "output_type": "execute_result"
    }
   ],
   "source": [
    "y_test.values[2:5]"
   ]
  },
  {
   "cell_type": "code",
   "execution_count": 10,
   "id": "d230120b",
   "metadata": {},
   "outputs": [
    {
     "data": {
      "text/plain": [
       "array([[-0.38211261,  0.28806793]])"
      ]
     },
     "execution_count": 10,
     "metadata": {},
     "output_type": "execute_result"
    }
   ],
   "source": [
    "pipeLogistic.get_params()['regression'].coef_"
   ]
  },
  {
   "cell_type": "code",
   "execution_count": 11,
   "id": "1db50832",
   "metadata": {},
   "outputs": [
    {
     "data": {
      "text/plain": [
       "['to_user_distance', 'total_earning']"
      ]
     },
     "execution_count": 11,
     "metadata": {},
     "output_type": "execute_result"
    }
   ],
   "source": [
    "features"
   ]
  },
  {
   "cell_type": "code",
   "execution_count": 16,
   "id": "336885e2",
   "metadata": {},
   "outputs": [],
   "source": [
    "dump(pipeLogistic, open('model.pkl','wb'))"
   ]
  },
  {
   "cell_type": "code",
   "execution_count": 18,
   "id": "4c24cec4",
   "metadata": {},
   "outputs": [],
   "source": [
    "model = load(open('model.pkl', 'rb'))"
   ]
  },
  {
   "cell_type": "code",
   "execution_count": 19,
   "id": "cc8546be",
   "metadata": {},
   "outputs": [
    {
     "data": {
      "text/plain": [
       "array([[0.06636523, 0.93363477],\n",
       "       [0.01968413, 0.98031587],\n",
       "       [0.10224007, 0.89775993]])"
      ]
     },
     "execution_count": 19,
     "metadata": {},
     "output_type": "execute_result"
    }
   ],
   "source": [
    "model.predict_proba(X_test.values[2:5])"
   ]
  },
  {
   "cell_type": "code",
   "execution_count": null,
   "id": "88805312",
   "metadata": {},
   "outputs": [],
   "source": []
  }
 ],
 "metadata": {
  "kernelspec": {
   "display_name": "Python 3",
   "language": "python",
   "name": "python3"
  },
  "language_info": {
   "codemirror_mode": {
    "name": "ipython",
    "version": 3
   },
   "file_extension": ".py",
   "mimetype": "text/x-python",
   "name": "python",
   "nbconvert_exporter": "python",
   "pygments_lexer": "ipython3",
   "version": "3.8.10"
  }
 },
 "nbformat": 4,
 "nbformat_minor": 5
}
